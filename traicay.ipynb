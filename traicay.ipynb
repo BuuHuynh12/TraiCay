{
  "nbformat": 4,
  "nbformat_minor": 0,
  "metadata": {
    "colab": {
      "name": "traicay.ipynb",
      "provenance": [],
      "collapsed_sections": []
    },
    "kernelspec": {
      "name": "python3",
      "display_name": "Python 3"
    },
    "language_info": {
      "name": "python"
    },
    "accelerator": "GPU"
  },
  "cells": [
    {
      "cell_type": "code",
      "execution_count": 1,
      "metadata": {
        "id": "GUuu-XMIMW1C"
      },
      "outputs": [],
      "source": [
        "import numpy as np\n",
        "import tensorflow as tf\n",
        "from tensorflow import keras\n",
        "from tensorflow.keras.models import Sequential\n",
        "from tensorflow.keras.layers import Activation, Dense, Flatten, BatchNormalization, Conv2D, MaxPool2D, Dropout\n",
        "from tensorflow.keras.optimizers import Adam\n",
        "from tensorflow.keras.metrics import categorical_crossentropy\n",
        "from tensorflow.keras.preprocessing.image import ImageDataGenerator\n",
        "from sklearn.metrics import confusion_matrix\n",
        "import itertools\n",
        "import os\n",
        "import shutil\n",
        "import random\n",
        "import glob\n",
        "import matplotlib.pyplot as plt\n",
        "import warnings\n",
        "from tensorflow.python.keras.utils.data_utils import Sequence\n",
        "warnings.simplefilter(action='ignore', category=FutureWarning)\n",
        "%matplotlib inline"
      ]
    },
    {
      "cell_type": "code",
      "source": [
        "from google.colab import drive\n",
        "drive.mount('/content/drive')"
      ],
      "metadata": {
        "colab": {
          "base_uri": "https://localhost:8080/"
        },
        "id": "2yCN5zypMenU",
        "outputId": "7f07d5f8-cda1-4ef6-9d3a-0c20cd9a7a7b"
      },
      "execution_count": 2,
      "outputs": [
        {
          "output_type": "stream",
          "name": "stdout",
          "text": [
            "Mounted at /content/drive\n"
          ]
        }
      ]
    },
    {
      "cell_type": "code",
      "source": [
        "train_path = '/content/drive/MyDrive/data/data_traicay/traicay'\n",
        "valid_path = '/content/drive/MyDrive/data/data_traicay/traicay'\n",
        "test_path = '/content/drive/MyDrive/data/data_traicay/traicay'"
      ],
      "metadata": {
        "id": "erjbYNB5MrYO"
      },
      "execution_count": 4,
      "outputs": []
    },
    {
      "cell_type": "code",
      "source": [
        "train_datagen = ImageDataGenerator(rescale=1./255, rotation_range=40,\n",
        "                                   width_shift_range=0.2, height_shift_range=0.2,\n",
        "                                   shear_range=0.2, zoom_range=0.2,\n",
        "                                   horizontal_flip=True, fill_mode='nearest')\n",
        "test_datagen = ImageDataGenerator(rescale=1./255)\n",
        "train_batches = train_datagen.flow_from_directory(train_path, target_size=(224, 224), \n",
        "                                                  batch_size=10, class_mode='categorical')\n",
        "\n",
        "validation_batches = test_datagen.flow_from_directory(valid_path, target_size=(224, 224),\n",
        "                                                      batch_size=10, class_mode='categorical')\n",
        "\n",
        "test_batches = test_datagen.flow_from_directory(test_path, target_size=(224, 224),\n",
        "                                                batch_size=10, class_mode='categorical')"
      ],
      "metadata": {
        "colab": {
          "base_uri": "https://localhost:8080/"
        },
        "id": "S6oYfj6TMyWB",
        "outputId": "e4aa24fb-8c10-4260-cdc1-370fa0a480e3"
      },
      "execution_count": 5,
      "outputs": [
        {
          "output_type": "stream",
          "name": "stdout",
          "text": [
            "Found 200 images belonging to 10 classes.\n",
            "Found 200 images belonging to 10 classes.\n",
            "Found 200 images belonging to 10 classes.\n"
          ]
        }
      ]
    },
    {
      "cell_type": "code",
      "source": [
        "imgs, labels = next(train_batches)\n",
        "def plotImages(images_arr):\n",
        "    fig, axes = plt.subplots(1, 10, figsize=(20,20))\n",
        "    axes = axes.flatten()\n",
        "    for img, ax in zip( images_arr, axes):\n",
        "        ax.imshow(img)\n",
        "        ax.axis('off')\n",
        "    plt.tight_layout()\n",
        "    plt.show()"
      ],
      "metadata": {
        "id": "atsQCun6M0Jo"
      },
      "execution_count": 6,
      "outputs": []
    },
    {
      "cell_type": "code",
      "source": [
        "model = Sequential([\n",
        "    Conv2D(filters=64, kernel_size=(3, 3), activation='relu', padding = 'same', input_shape=(224,224,3)),\n",
        "    MaxPool2D(pool_size=(2, 2), strides=2),\n",
        "    Conv2D(filters=128, kernel_size=(3, 3), activation='relu', padding = 'same'),\n",
        "    MaxPool2D(pool_size=(2, 2), strides=2),\n",
        "    Conv2D(filters=256, kernel_size=(3, 3), activation='relu', padding = 'same'),\n",
        "    MaxPool2D(pool_size=(2, 2), strides=2),\n",
        "    Dropout(0.2),\n",
        "    Conv2D(filters=256, kernel_size=(3, 3), activation='relu', padding = 'same'),\n",
        "    Flatten(),\n",
        "    Dropout(0.5),\n",
        "    Dense(units=10, activation='softmax')])\n",
        "model.summary()"
      ],
      "metadata": {
        "colab": {
          "base_uri": "https://localhost:8080/"
        },
        "id": "dFWqpVRyM25a",
        "outputId": "3f25d970-e4c8-4c65-bd00-ac47eb3cc30e"
      },
      "execution_count": 7,
      "outputs": [
        {
          "output_type": "stream",
          "name": "stdout",
          "text": [
            "Model: \"sequential\"\n",
            "_________________________________________________________________\n",
            " Layer (type)                Output Shape              Param #   \n",
            "=================================================================\n",
            " conv2d (Conv2D)             (None, 224, 224, 64)      1792      \n",
            "                                                                 \n",
            " max_pooling2d (MaxPooling2D  (None, 112, 112, 64)     0         \n",
            " )                                                               \n",
            "                                                                 \n",
            " conv2d_1 (Conv2D)           (None, 112, 112, 128)     73856     \n",
            "                                                                 \n",
            " max_pooling2d_1 (MaxPooling  (None, 56, 56, 128)      0         \n",
            " 2D)                                                             \n",
            "                                                                 \n",
            " conv2d_2 (Conv2D)           (None, 56, 56, 256)       295168    \n",
            "                                                                 \n",
            " max_pooling2d_2 (MaxPooling  (None, 28, 28, 256)      0         \n",
            " 2D)                                                             \n",
            "                                                                 \n",
            " dropout (Dropout)           (None, 28, 28, 256)       0         \n",
            "                                                                 \n",
            " conv2d_3 (Conv2D)           (None, 28, 28, 256)       590080    \n",
            "                                                                 \n",
            " flatten (Flatten)           (None, 200704)            0         \n",
            "                                                                 \n",
            " dropout_1 (Dropout)         (None, 200704)            0         \n",
            "                                                                 \n",
            " dense (Dense)               (None, 10)                2007050   \n",
            "                                                                 \n",
            "=================================================================\n",
            "Total params: 2,967,946\n",
            "Trainable params: 2,967,946\n",
            "Non-trainable params: 0\n",
            "_________________________________________________________________\n"
          ]
        }
      ]
    },
    {
      "cell_type": "code",
      "source": [
        "model.compile(optimizer=Adam(learning_rate=0.0005), loss='categorical_crossentropy', metrics=['accuracy'])\n",
        "model.fit(x=train_batches, steps_per_epoch=len(train_batches), validation_data=validation_batches,\n",
        "          validation_steps=len(validation_batches), epochs=50, verbose=1)"
      ],
      "metadata": {
        "colab": {
          "base_uri": "https://localhost:8080/"
        },
        "id": "qKnYiTvaM5TO",
        "outputId": "d973c9c7-ad86-4d37-c7f8-5905df2eb76e"
      },
      "execution_count": null,
      "outputs": [
        {
          "output_type": "stream",
          "name": "stdout",
          "text": [
            "Epoch 1/50\n",
            "20/20 [==============================] - 63s 3s/step - loss: 2.4312 - accuracy: 0.0900 - val_loss: 2.2185 - val_accuracy: 0.1450\n",
            "Epoch 2/50\n",
            "20/20 [==============================] - 4s 176ms/step - loss: 2.0270 - accuracy: 0.1900 - val_loss: 1.7753 - val_accuracy: 0.2800\n",
            "Epoch 3/50\n",
            "20/20 [==============================] - 4s 178ms/step - loss: 1.9229 - accuracy: 0.2150 - val_loss: 1.6774 - val_accuracy: 0.3850\n",
            "Epoch 4/50\n",
            " 6/20 [========>.....................] - ETA: 1s - loss: 1.5762 - accuracy: 0.3833"
          ]
        }
      ]
    },
    {
      "cell_type": "code",
      "source": [
        "model.save('/content/drive/MyDrive/data/data_traicay/traicayTrain_traicayVN.h5')"
      ],
      "metadata": {
        "id": "lNSBMfYhM7Co"
      },
      "execution_count": null,
      "outputs": []
    },
    {
      "cell_type": "code",
      "source": [
        "classes = ['bo','cam','chom_chom','chuoi','dua','kiwi','luu','nho','sau_rieng','thom']\n",
        "print(\"Image Processing.......Compleated\")"
      ],
      "metadata": {
        "id": "CFGHgGXDTLfc"
      },
      "execution_count": null,
      "outputs": []
    },
    {
      "cell_type": "code",
      "source": [
        "from google.colab import files\n",
        "from keras.preprocessing import image\n",
        "%matplotlib inline\n",
        "import matplotlib.pyplot as plt\n",
        "import matplotlib.image as mpimg\n",
        "\n",
        "uploaded=files.upload()\n",
        "\n",
        "for fn in uploaded.keys():\n",
        "  #predicting images\n",
        "  path='/content/'+fn\n",
        "  #In ảnh đọc được\n",
        "  plt.imshow(mpimg.imread(path))\n",
        "\n",
        "  img=image.load_img(path,target_size=(224,224))\n",
        "  x=image.img_to_array(img)\n",
        "  x=np.expand_dims(x,axis=0)\n",
        "  images=np.vstack([x])\n",
        "  y_predict = model.predict(images,batch_size=200000)\n",
        "  print(y_predict)\n",
        "  print('Giá trị dự đoán: ', classes[np.argmax(y_predict)])"
      ],
      "metadata": {
        "id": "l0QFNzQzTMpw"
      },
      "execution_count": null,
      "outputs": []
    },
    {
      "cell_type": "code",
      "source": [
        ""
      ],
      "metadata": {
        "id": "N1uNhdjHTa8P"
      },
      "execution_count": null,
      "outputs": []
    },
    {
      "cell_type": "code",
      "source": [
        ""
      ],
      "metadata": {
        "id": "bGdM-0m9TNjJ"
      },
      "execution_count": null,
      "outputs": []
    }
  ]
}